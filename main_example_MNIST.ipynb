{
 "cells": [
  {
   "cell_type": "code",
   "execution_count": 28,
   "id": "cea3c6fc-420c-420c-8d92-461746ac53dc",
   "metadata": {},
   "outputs": [],
   "source": [
    "import numpy as np\n",
    "from utils import utils\n",
    "from utils import dataset as ds\n",
    "import torch\n",
    "from torchvision import datasets, transforms\n",
    "from modules import csvae_modules as mod_csvae\n",
    "from modules import csgmm_modules as mod_csgmm\n",
    "from modules import baselines as base\n",
    "import time\n",
    "import skimage.metrics as ski\n",
    "import matplotlib.pyplot as plt\n",
    "import random"
   ]
  },
  {
   "cell_type": "markdown",
   "id": "0c75236f-b89a-4821-be2a-0e8a91cae55d",
   "metadata": {},
   "source": [
    "Set up the global parameters"
   ]
  },
  {
   "cell_type": "code",
   "execution_count": 29,
   "id": "aefca01e-5e6f-4b2d-9f66-a6b80489b6ea",
   "metadata": {},
   "outputs": [],
   "source": [
    "lr = 2e-5 # learning rate\n",
    "miter = 1024 # maximal number of iterations\n",
    "ddim = 784 # dimension of the data samples (N in our work)\n",
    "sdim = 1443 # dimension of the sparse representation of the data samples (S in our work)\n",
    "ydim = 200 # dimension of the sample observations (M in our work)\n",
    "n_train = 5000 # number of training samples (N_t in our work)\n",
    "n_val = 2000 # number of validation samples\n",
    "n_test = 5000 # number of test samples\n",
    "snr_db = 40 # signal-to-noise ratio in dB\n",
    "\n",
    "# for the CSVAE\n",
    "n_enc = 2 # number of encoder layers\n",
    "n_dec = 2 # number of decoder layers\n",
    "width = 256 # maximal width of the encoder and decoder layers\n",
    "ldim = 16 # latent dimension of the CSVAE\n",
    "bs = 64 # batchsize\n",
    "device = torch.device('cuda:0' if torch.cuda.is_available() else 'cpu') # device\n",
    "\n",
    "# for the CSGMM\n",
    "K = 32 # number of components"
   ]
  },
  {
   "cell_type": "markdown",
   "id": "e519722a-fbcd-43fb-a55f-b9df801c46f3",
   "metadata": {},
   "source": [
    "Load the MNIST dataset"
   ]
  },
  {
   "cell_type": "code",
   "execution_count": 30,
   "id": "69d4e93b-3a84-4ce1-928e-1de240803111",
   "metadata": {},
   "outputs": [],
   "source": [
    "transform = transforms.Compose([transforms.ToTensor()]) # transform applied to all data samples\n",
    "mnist_train = datasets.MNIST(root='./data', train=True, download=True, transform=transform) # load MNIST training set\n",
    "mnist_test = datasets.MNIST(root='./data', train=False, download=True, transform=transform) # load MNIST test set\n",
    "num_train_images = len(mnist_train) # determine length of training smaples\n",
    "num_test_images = len(mnist_test) # determine length of test samples\n",
    "X_train = torch.zeros(num_train_images, ddim)\n",
    "X_test = torch.zeros(num_test_images, ddim)\n",
    "for i, (image, _) in enumerate(mnist_train):\n",
    "    X_train[i] = torch.squeeze(image).reshape(-1) # reshape all images to a vector\n",
    "for i, (image, _) in enumerate(mnist_test):\n",
    "    X_test[i] = torch.squeeze(image).reshape(-1) # reshape all images to a vector\n",
    "X_train = X_train.to(device)\n",
    "X_test = X_test.to(device)\n",
    "X_gt_train, X_gt_val = X_train[:n_train, :], X_train[n_train:n_train + n_val, :] # split into training and validation samples\n",
    "X_gt_test = X_test[:n_test, :]"
   ]
  },
  {
   "cell_type": "markdown",
   "id": "ff201c52-7c2c-4960-bc35-f3807c19f7a8",
   "metadata": {},
   "source": [
    "Generate an observation matrix and prepare the datasets and dataloaders for CSVAE and CSGMM"
   ]
  },
  {
   "cell_type": "code",
   "execution_count": 31,
   "id": "730f3bfe-fe83-4fad-9639-82379afd6a51",
   "metadata": {},
   "outputs": [],
   "source": [
    "A = 1/torch.sqrt(torch.tensor(ydim).to(device)) * torch.randn(ydim,ddim).to(device) # draw Gaussian random observation matrix\n",
    "X_obs_train = torch.einsum('ij,kj->ki', A, X_gt_train) # determine the training set of compressed observations (here noise is not included)\n",
    "X_obs_val = torch.einsum('ij,kj->ki', A, X_gt_val) # determine the validation set of compressed observations (here noise is not included)\n",
    "X_obs_test = torch.einsum('ij,kj->ki', A, X_gt_test) # determine the test set of compressed observations (here noise is not included)\n",
    "DS_train_obs, DS_val_obs, DS_test_obs, DL_train_obs, DL_val_obs, DL_test_obs = ds.default_ds_dl_split(X_obs_train, X_obs_val, X_obs_test, bs)\n",
    "\n",
    "A_np = A.to('cpu').numpy()\n",
    "X_obs_train_np = X_obs_train.to('cpu').numpy()\n",
    "X_obs_val_np = X_obs_val.to('cpu').numpy()\n",
    "X_obs_test_np = X_obs_test.to('cpu').numpy()"
   ]
  },
  {
   "cell_type": "markdown",
   "id": "1eac5933-980c-495a-9dfe-7c1d3dde0da6",
   "metadata": {},
   "source": [
    "Determine the dictionary and the SNR (only important to determine a small value for $\\sigma^2$ used in (7) in our paper (see discussion in Appendix K). In this example the training, validation and test samples are not corrupted by noise, but only compressed by the observation matrix)"
   ]
  },
  {
   "cell_type": "code",
   "execution_count": 32,
   "id": "74874390-24dc-47b1-9aa1-20069b2d089e",
   "metadata": {},
   "outputs": [],
   "source": [
    "D = utils.generate_WaveletDict2D(int(np.sqrt(ddim)), d='db4') # create the set of 2D dictionary elements\n",
    "D = np.reshape(D, (D.shape[0], -1)).T # compute the dictionary matrix\n",
    "snr = 10 ** (snr_db / 10) # compute the snr\n",
    "noise_var = torch.mean(torch.sum(X_obs_train ** 2, axis=1), axis=0) / (snr * ydim) # compute the correspoding noise variance\n",
    "\n",
    "noise_var_np = noise_var.to('cpu').numpy()"
   ]
  },
  {
   "cell_type": "markdown",
   "id": "2efa0c6e-627f-48c7-a110-5e5afcb48994",
   "metadata": {},
   "source": [
    "Set up the CSVAE and CSGMM"
   ]
  },
  {
   "cell_type": "code",
   "execution_count": 33,
   "id": "31efa90c-4d50-4f2a-a4d9-0e9e2eefa83f",
   "metadata": {},
   "outputs": [],
   "source": [
    "CSVAE = mod_csvae.CSVAE(ydim, sdim, ldim, A, D, n_enc, n_dec, width, device, fix_zeta=noise_var).to(device)\n",
    "CSGMM = mod_csgmm.CSGMM(K, ydim, sdim, ddim, A_np, D, fix_zeta=noise_var_np)"
   ]
  },
  {
   "cell_type": "markdown",
   "id": "ab7b684a-655c-437b-bb8d-8294fa077a95",
   "metadata": {},
   "source": [
    "Train the CSVAE (you can skip this part if you only want to test the CSGMM) - We highly recommend using a GPU for training the CSVAE"
   ]
  },
  {
   "cell_type": "code",
   "execution_count": 34,
   "id": "08a90e3e-08c3-441d-90f5-b3a1592537f9",
   "metadata": {},
   "outputs": [
    {
     "name": "stdout",
     "output_type": "stream",
     "text": [
         ]
    }
   ],
   "source": [
    "r_tr, kl1_tr, kl2_tr, rec_tr, r_val, kl1_val, kl2_val, rec_val = CSVAE.fit(lr, DL_train_obs, DL_val_obs, miter, device, n_train, n_val)"
   ]
  },
  {
   "cell_type": "markdown",
   "id": "adb329eb-5215-4390-be3e-5ab6e318bcbe",
   "metadata": {},
   "source": [
    "Train the CSGMM (you can skip this part if you only want to test the CSVAE)"
   ]
  },
  {
   "cell_type": "code",
   "execution_count": 35,
   "id": "c41f527c-df02-4e2c-9cb2-0f0ebe44e1e6",
   "metadata": {},
   "outputs": [
    {
     "name": "stdout",
     "output_type": "stream",
     "text": [
          ]
    }
   ],
   "source": [
    "logl_track = CSGMM.fit(X_obs_train_np, miter)"
   ]
  },
  {
   "cell_type": "markdown",
   "id": "a7e5ba7d-2333-4f27-8c80-d0a590629df6",
   "metadata": {},
   "source": [
    "Plot reconstructed MNIST images from CSVAE, CSGMM, and the baselines SBL and LASSO"
   ]
  },
  {
   "cell_type": "code",
   "execution_count": 37,
   "id": "a0f752dd-d7b0-48c4-bd82-fe9fd3f2427d",
   "metadata": {},
   "outputs": [
    {
     "data": {
      "image/png": "[encoded data removed]",
      "text/plain": [
       "<Figure size 1300x200 with 7 Axes>"
      ]
     },
     "metadata": {},
     "output_type": "display_data"
    },
    {
     "name": "stdout",
     "output_type": "stream",
     "text": [
      "nMSE results:\n",
      "CME-CSVAE: 0.0047, MAP-CSVAE: 0.0048, CME-CSGMM: 0.0078, MAP-CSGMM: 0.0078, SBL: 0.0227, LASSO: 0.0619\n",
      "SSIM results:\n",
      "CME-CSVAE: 0.7570, MAP-CSVAE: 0.7545, CME-CSGMM: 0.7029, MAP-CSGMM: 0.7029, SBL: 0.5636, LASSO: 0.3304\n"
     ]
    }
   ],
   "source": [
    "dim1d = int(np.sqrt(ddim))\n",
    "\n",
    "# generate a random test ground truth sample\n",
    "rand_idx = random.randint(0, n_test)\n",
    "sample = X_gt_test[rand_idx, :].to('cpu').numpy()\n",
    "sample_2d = sample.reshape((dim1d, dim1d))\n",
    "\n",
    "# plot the reconstructed test ground truth sample by the CSVAE (using the MAP and CME-based estimators in Appendix G, Eq. (43),(42))\n",
    "# you can comment out this part if you have not trained the CSVAE\n",
    "X_test_de = X_obs_test[rand_idx, :][None, :].float().to(device)\n",
    "\n",
    "start_csvae_map = time.time()\n",
    "sMAP_csvae = torch.squeeze(CSVAE.cme(X_test_de))\n",
    "sMAP_csvae = sMAP_csvae.detach().to('cpu').numpy()\n",
    "xMAP_csvae = D @ sMAP_csvae\n",
    "xclipMAP_csvae = np.copy(xMAP_csvae)\n",
    "xclipMAP_csvae[xclipMAP_csvae > 1] = 1\n",
    "xclipMAP_csvae[xclipMAP_csvae < 0] = 0\n",
    "xclipMAP_csvae_2d = xclipMAP_csvae.reshape((dim1d,dim1d))\n",
    "\n",
    "sCME_csvae = torch.squeeze(CSVAE.cme(X_test_de,mode='montecarlo',n_samples=16))\n",
    "sCME_csvae = sCME_csvae.detach().to('cpu').numpy()\n",
    "xCME_csvae = D @ sCME_csvae\n",
    "xclipCME_csvae = np.copy(xCME_csvae)\n",
    "xclipCME_csvae[xclipCME_csvae > 1] = 1\n",
    "xclipCME_csvae[xclipCME_csvae < 0] = 0\n",
    "xclipCME_csvae_2d = xclipCME_csvae.reshape((dim1d,dim1d))\n",
    "\n",
    "# plot the reconstructed test ground truth sample by the CSGMM (using the MAP and CME-based estimators in Appendix G, Eq. (45),(44))\n",
    "# you can comment out this part if you have not trained the CSGMM\n",
    "X_test_np = X_obs_test_np[rand_idx, :]\n",
    "\n",
    "sMAP_csgmm = np.squeeze(CSGMM.cme(X_test_np,mode='map'))\n",
    "xMAP_csgmm = D @ sMAP_csgmm\n",
    "xclipMAP_csgmm  = np.copy(xMAP_csgmm)\n",
    "xclipMAP_csgmm [xclipMAP_csgmm  > 1] = 1\n",
    "xclipMAP_csgmm [xclipMAP_csgmm  < 0] = 0\n",
    "xclipMAP_csgmm_2d  = xclipMAP_csgmm.reshape((dim1d,dim1d))\n",
    "\n",
    "sCME_csgmm  = np.squeeze(CSGMM.cme(X_test_np,mode='cme'))\n",
    "xCME_csgmm  = D @ sCME_csgmm\n",
    "xclipCME_csgmm  = np.copy(xCME_csgmm)\n",
    "xclipCME_csgmm [xclipCME_csgmm  > 1] = 1\n",
    "xclipCME_csgmm [xclipCME_csgmm  < 0] = 0\n",
    "xclipCME_csgmm_2d  = xclipCME_csgmm.reshape((dim1d,dim1d))\n",
    "\n",
    "# sbl baseline\n",
    "sSBL = base.apply_sbl_torch(torch.squeeze(X_test_de), A@torch.tensor(D).float().to(device), miter,zeta_in = noise_var,device = device)\n",
    "xSBL = D @ sSBL\n",
    "xSBLclip = np.copy(xSBL)\n",
    "xSBLclip[xSBLclip > 1] = 1\n",
    "xSBLclip[xSBLclip < 0] = 0\n",
    "xSBLclip_2d  = xSBLclip.reshape((dim1d,dim1d))\n",
    "\n",
    "# lasso baseline in the MNIST image domain (i.e., D = identity) and shrinkage parameter 0.1\n",
    "xLASSO = base.apply_lasso_sklearn(X_test_np,A_np,np.eye(ddim),0.1)\n",
    "xLASSO_2d  = xLASSO.reshape((dim1d,dim1d))\n",
    "\n",
    "imgs = [sample_2d,xclipCME_csvae_2d,xclipMAP_csvae_2d,xclipCME_csgmm_2d,xclipMAP_csgmm_2d,xSBLclip_2d,xLASSO_2d]\n",
    "titles = ['Ground Truth','CME-CSVAE','MAP-CSVAE','CME-CSGMM','MAP-CSGMM','SBL','LASSO']\n",
    "\n",
    "fig, axes = plt.subplots(1, 7, figsize=(13, 2))\n",
    "\n",
    "for (ax_i,ax) in enumerate(axes):\n",
    "    ax.imshow(imgs[ax_i],cmap='gray')\n",
    "    ax.set_title(titles[ax_i])\n",
    "    ax.axis('off')\n",
    "\n",
    "plt.tight_layout()\n",
    "plt.show()\n",
    "\n",
    "nMSE_csvae_map = (np.linalg.norm(sample - xclipMAP_csvae) ** 2) / ddim\n",
    "nMSE_csvae_cme = (np.linalg.norm(sample - xclipCME_csvae) ** 2) / ddim\n",
    "nMSE_csgmm_map = (np.linalg.norm(sample - xclipMAP_csgmm) ** 2) / ddim\n",
    "nMSE_csgmm_cme = (np.linalg.norm(sample - xclipCME_csgmm) ** 2) / ddim\n",
    "nMSE_sbl = (np.linalg.norm(sample - xSBLclip) ** 2) / ddim\n",
    "nMSE_lasso = (np.linalg.norm(sample - xLASSO) ** 2) / ddim\n",
    "\n",
    "ssim_csvae_map = ski.structural_similarity(xclipMAP_csvae_2d, sample_2d, data_range=1)\n",
    "ssim_csvae_cme = ski.structural_similarity(xclipCME_csvae_2d, sample_2d, data_range=1)\n",
    "ssim_csgmm_map = ski.structural_similarity(xclipMAP_csgmm_2d, sample_2d, data_range=1)\n",
    "ssim_csgmm_cme = ski.structural_similarity(xclipCME_csgmm_2d, sample_2d, data_range=1)\n",
    "ssim_sbl = ski.structural_similarity(xSBLclip_2d, sample_2d, data_range=1)\n",
    "ssim_lasso = ski.structural_similarity(xLASSO_2d, sample_2d, data_range=1)\n",
    "\n",
    "print('nMSE results:')\n",
    "print(f'CME-CSVAE: {nMSE_csvae_cme:.4f}, MAP-CSVAE: {nMSE_csvae_map:.4f}, CME-CSGMM: {nMSE_csgmm_cme:.4f}, MAP-CSGMM: {nMSE_csgmm_map:.4f}, SBL: {nMSE_sbl:.4f}, LASSO: {nMSE_lasso:.4f}')\n",
    "print('SSIM results:')\n",
    "print(f'CME-CSVAE: {ssim_csvae_cme:.4f}, MAP-CSVAE: {ssim_csvae_map:.4f}, CME-CSGMM: {ssim_csgmm_cme:.4f}, MAP-CSGMM: {ssim_csgmm_map:.4f}, SBL: {ssim_sbl:.4f}, LASSO: {ssim_lasso:.4f}')"
   ]
  }
 ],
 "metadata": {
  "kernelspec": {
   "display_name": "Python 3 (ipykernel)",
   "language": "python",
   "name": "python3"
  },
  "language_info": {
   "codemirror_mode": {
    "name": "ipython",
    "version": 3
   },
   "file_extension": ".py",
   "mimetype": "text/x-python",
   "name": "python",
   "nbconvert_exporter": "python",
   "pygments_lexer": "ipython3",
   "version": "3.10.16"
  }
 },
 "nbformat": 4,
 "nbformat_minor": 5
}
